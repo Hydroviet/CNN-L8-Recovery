{
 "cells": [
  {
   "cell_type": "code",
   "execution_count": 1,
   "metadata": {},
   "outputs": [],
   "source": [
    "import spectral as spy\n",
    "from matplotlib import pyplot\n",
    "import numpy as np\n",
    "import h5py\n",
    "import sys, os\n",
    "from PIL import Image"
   ]
  },
  {
   "cell_type": "markdown",
   "metadata": {},
   "source": [
    "Define function for reading Tif, HDR; remove pixel value depends on mask data"
   ]
  },
  {
   "cell_type": "code",
   "execution_count": 2,
   "metadata": {},
   "outputs": [],
   "source": [
    "def readTifImage(file_name):\n",
    "    im = Image.open('dataset/CloudMaskExamples/Mask1.tif')\n",
    "    data = np.array(im)\n",
    "    return data"
   ]
  },
  {
   "cell_type": "code",
   "execution_count": 3,
   "metadata": {},
   "outputs": [],
   "source": [
    "def readHDRFile(file_name, band):\n",
    "    img = spy.open_image(file_name)\n",
    "    data = img.read_band(band)\n",
    "    return data"
   ]
  },
  {
   "cell_type": "code",
   "execution_count": 4,
   "metadata": {},
   "outputs": [],
   "source": [
    "def addCloudMaskOverData(data, mask):\n",
    "    maskedData = np.copy(data)\n",
    "    maskedData[np.asarray(mask) == 0] = 0\n",
    "    return maskedData"
   ]
  },
  {
   "cell_type": "code",
   "execution_count": 5,
   "metadata": {},
   "outputs": [],
   "source": [
    "def get2DMaskArray(mask):\n",
    "    mask2D = np.zeros((mask.shape[:2]))\n",
    "    mask2D = np.sum(mask, axis=2) - 255\n",
    "    return mask2D"
   ]
  },
  {
   "cell_type": "markdown",
   "metadata": {},
   "source": [
    "Reading list of Input. Last 5 (L8) * 9 (masks) will be for validation"
   ]
  },
  {
   "cell_type": "code",
   "execution_count": 6,
   "metadata": {},
   "outputs": [],
   "source": [
    "for root, folders, files in os.walk('dataset/CloudFree/'):\n",
    "    break\n",
    "listInputTrain = folders[:10]\n",
    "listInputTest = folders[15:25]\n",
    "\n",
    "for __, _, files in os.walk('dataset/CloudMaskExamples/'):\n",
    "    break\n",
    "listMask = files"
   ]
  },
  {
   "cell_type": "markdown",
   "metadata": {},
   "source": [
    "## HDF5 structures\n",
    "\n",
    "\n",
    "**label**: Original image\n",
    "\n",
    "**mask**: Mask used\n",
    "\n",
    "**masked**: Masked image\n",
    "\n",
    "**ref**: Referenced image\n",
    "\n",
    "**ratio**: All value scale to [0..1]. Original ratio when divided"
   ]
  },
  {
   "cell_type": "markdown",
   "metadata": {},
   "source": [
    "## Create HDF5 contains Training-Set"
   ]
  },
  {
   "cell_type": "markdown",
   "metadata": {},
   "source": [
    "### Initilization"
   ]
  },
  {
   "cell_type": "code",
   "execution_count": 7,
   "metadata": {},
   "outputs": [],
   "source": [
    "# Shuffle Referenced Images\n",
    "nTrain = len(listInputTrain)\n",
    "nMask = len(listMask)\n",
    "\n",
    "refImg = np.arange(nTrain)\n",
    "np.random.shuffle(refImg)\n",
    "\n",
    "lLabel = np.zeros((nMask*nTrain,400,400,3),dtype=np.float32)\n",
    "lMask = np.zeros((nMask*nTrain,400,400),dtype=np.float32)\n",
    "lMasked = np.zeros((nMask*nTrain,400,400,3),dtype=np.float32)\n",
    "lRef = np.zeros((nMask*nTrain,400,400,3),dtype=np.float32)\n",
    "lRatio = np.zeros((nMask*nTrain,3),dtype=np.float32)"
   ]
  },
  {
   "cell_type": "markdown",
   "metadata": {},
   "source": [
    "For each mask, create one training-set"
   ]
  },
  {
   "cell_type": "code",
   "execution_count": 8,
   "metadata": {},
   "outputs": [],
   "source": [
    "for j in range(nMask):\n",
    "    _mask = get2DMaskArray(readTifImage(listMask[j]))\n",
    "    \n",
    "    dLabel = np.zeros((400,400,3))\n",
    "    dMasked = np.zeros((400,400,3))\n",
    "    dRef = np.zeros((400,400,3))\n",
    "    dRatio = np.zeros((3))\n",
    "    \n",
    "    for i in range(nTrain):\n",
    "        # Read for each bands\n",
    "        for b in range(3):\n",
    "            # Read cloud-free data\n",
    "            label = readHDRFile(os.path.join(root, listInputTrain[i], 'input_without_mask.hdr'), b)\n",
    "            # Add mask over label\n",
    "            masked = addCloudMaskOverData(data=label,mask=_mask)           \n",
    "            # Read reference\n",
    "            ref = readHDRFile(os.path.join(root, listInputTrain[refImg[i]], 'input_without_mask.hdr'), b)\n",
    "            # Calculate ratio\n",
    "            ratio = np.max(label)\n",
    "            ratio = max(ratio, np.max(ref))\n",
    "            # Normalize data\n",
    "            label /= ratio\n",
    "            masked /= ratio\n",
    "            ref /= ratio\n",
    "\n",
    "            dLabel[:,:,b] = label.astype('float32')\n",
    "            dMasked[:,:,b] = masked.astype('float32')\n",
    "            dRef[:,:,b] = ref.astype('float32')\n",
    "            dRatio[b] = ratio.astype('float32')\n",
    "        \n",
    "        nSet = j*nMask + i\n",
    "        lLabel[nSet,:,:,:] = dLabel\n",
    "        lMask[nSet,:,:] = _mask\n",
    "        lMasked[nSet,:,:,:] = dMasked\n",
    "        lRef[nSet,:,:,:] = dRef\n",
    "        lRatio[nSet,:]=dRatio"
   ]
  },
  {
   "cell_type": "code",
   "execution_count": 9,
   "metadata": {},
   "outputs": [],
   "source": [
    "f = h5py.File('small_train.hdf5', 'w')\n",
    "f.create_dataset('label',data=lLabel)\n",
    "f.create_dataset('mask',data=lMask)\n",
    "f.create_dataset('masked',data=lMasked)\n",
    "f.create_dataset('ref',data=lRef)\n",
    "f.create_dataset('ratio',data=lRatio)\n",
    "f.close()"
   ]
  },
  {
   "cell_type": "markdown",
   "metadata": {},
   "source": [
    "## Create HDF5 contains Test-Set"
   ]
  },
  {
   "cell_type": "markdown",
   "metadata": {},
   "source": [
    "### Initilization"
   ]
  },
  {
   "cell_type": "code",
   "execution_count": 10,
   "metadata": {},
   "outputs": [],
   "source": [
    "# Shuffle Referenced Images\n",
    "nTest = len(listInputTest)\n",
    "nMask = len(listMask)\n",
    "\n",
    "refImg = np.arange(nTest)\n",
    "np.random.shuffle(refImg)\n",
    "\n",
    "lLabel = np.zeros((nMask*nTest,400,400,3),dtype=np.float32)\n",
    "lMask = np.zeros((nMask*nTest,400,400),dtype=np.float32)\n",
    "lMasked = np.zeros((nMask*nTest,400,400,3),dtype=np.float32)\n",
    "lRef = np.zeros((nMask*nTest,400,400,3),dtype=np.float32)\n",
    "lRatio = np.zeros((nMask*nTest,3),dtype=np.float32)"
   ]
  },
  {
   "cell_type": "markdown",
   "metadata": {},
   "source": [
    "For each mask, create one training-set"
   ]
  },
  {
   "cell_type": "code",
   "execution_count": 11,
   "metadata": {},
   "outputs": [],
   "source": [
    "for j in range(nMask):\n",
    "    _mask = get2DMaskArray(readTifImage(listMask[j]))\n",
    "    \n",
    "    dLabel = np.zeros((400,400,3))\n",
    "    dMasked = np.zeros((400,400,3))\n",
    "    dRef = np.zeros((400,400,3))\n",
    "    dRatio = np.zeros((3))\n",
    "    \n",
    "    for i in range(nTest):\n",
    "        # Read for each bands\n",
    "        for b in range(3):\n",
    "            # Read cloud-free data\n",
    "            label = readHDRFile(os.path.join(root, listInputTest[i], 'input_without_mask.hdr'), b)\n",
    "            # Add mask over label\n",
    "            masked = addCloudMaskOverData(data=label,mask=_mask)           \n",
    "            # Read reference\n",
    "            ref = readHDRFile(os.path.join(root, listInputTest[refImg[i]], 'input_without_mask.hdr'), b)\n",
    "            # Calculate ratio\n",
    "            ratio = np.max(label)\n",
    "            ratio = max(ratio, np.max(ref))\n",
    "            # Normalize data\n",
    "            label /= ratio\n",
    "            masked /= ratio\n",
    "            ref /= ratio\n",
    "\n",
    "            dLabel[:,:,b] = label.astype('float32')\n",
    "            dMasked[:,:,b] = masked.astype('float32')\n",
    "            dRef[:,:,b] = ref.astype('float32')\n",
    "            dRatio[b] = ratio.astype('float32')\n",
    "        \n",
    "        nSet = j*nMask + i\n",
    "        lLabel[nSet,:,:,:] = dLabel\n",
    "        lMask[nSet,:,:] = _mask\n",
    "        lMasked[nSet,:,:,:] = dMasked\n",
    "        lRef[nSet,:,:,:] = dRef\n",
    "        lRatio[nSet,:]=dRatio"
   ]
  },
  {
   "cell_type": "code",
   "execution_count": 12,
   "metadata": {},
   "outputs": [],
   "source": [
    "f = h5py.File('small_test.hdf5', 'w')\n",
    "f.create_dataset('label',data=lLabel)\n",
    "f.create_dataset('mask',data=lMask)\n",
    "f.create_dataset('masked',data=lMasked)\n",
    "f.create_dataset('ref',data=lRef)\n",
    "f.create_dataset('ratio',data=lRatio)\n",
    "f.close()"
   ]
  }
 ],
 "metadata": {
  "kernelspec": {
   "display_name": "Python 3",
   "language": "python",
   "name": "python3"
  },
  "language_info": {
   "codemirror_mode": {
    "name": "ipython",
    "version": 3
   },
   "file_extension": ".py",
   "mimetype": "text/x-python",
   "name": "python",
   "nbconvert_exporter": "python",
   "pygments_lexer": "ipython3",
   "version": "3.5.2"
  }
 },
 "nbformat": 4,
 "nbformat_minor": 2
}
