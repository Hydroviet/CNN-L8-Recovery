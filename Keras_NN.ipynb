{
 "cells": [
  {
   "cell_type": "code",
   "execution_count": 1,
   "metadata": {},
   "outputs": [
    {
     "name": "stderr",
     "output_type": "stream",
     "text": [
      "Using TensorFlow backend.\n"
     ]
    }
   ],
   "source": [
    "import keras\n",
    "import numpy as np\n",
    "from matplotlib import pyplot as plt\n",
    "import math\n",
    "import pandas\n",
    "from keras import Sequential\n",
    "from keras.layers import *\n",
    "from keras.models import Model\n",
    "import keras.backend as K\n",
    "from keras.optimizers import SGD, Adam\n",
    "from keras.callbacks import LearningRateScheduler"
   ]
  },
  {
   "cell_type": "markdown",
   "metadata": {},
   "source": [
    "input1 = Missing image (Masked by cloud)\n",
    "\n",
    "input2 = Referenced images (cloud-free)"
   ]
  },
  {
   "cell_type": "markdown",
   "metadata": {},
   "source": [
    "### Implement Model"
   ]
  },
  {
   "cell_type": "code",
   "execution_count": 2,
   "metadata": {},
   "outputs": [],
   "source": [
    "input1 = Input(shape=(400,400,1), name='input1')\n",
    "input2 = Input(shape=(400,400,1), name='input2')\n",
    "\n",
    "conv_1 = Conv2D(30, (3, 3),padding='same')(input1)\n",
    "conv_2 = Conv2D(30, (3, 3),padding='same')(input2)\n",
    "\n",
    "concat_1_2 = concatenate([conv_1, conv_2], axis=-1)\n",
    "concat_1_2 = Activation('relu')(concat_1_2)\n",
    "\n",
    "feature_3 = Conv2D(filters=20, kernel_size=(3, 3),padding='same')(concat_1_2)\n",
    "feature_5 = Conv2D(filters=20, kernel_size=(5, 5),padding='same')(concat_1_2)\n",
    "feature_7 = Conv2D(filters=20, kernel_size=(7, 7),padding='same')(concat_1_2)\n",
    "feature_3_5_7 = concatenate([feature_3, feature_5, feature_7])\n",
    "feature_3_5_7 = Activation('relu')(feature_3_5_7)\n",
    "\n",
    "sum0 = add([concat_1_2, feature_3_5_7])\n",
    "\n",
    "conv1 = Conv2D(filters=60, kernel_size=(3,3), padding='same',activation='relu')(sum0)\n",
    "conv2 = Conv2D(filters=30, kernel_size=(3,3), padding='same',activation='relu')(conv1)\n",
    "\n",
    "sum1 = add([conv_2, conv2])\n",
    "conv3 = Conv2D(filters=60, kernel_size=(3,3), dilation_rate=2, padding='same',activation='relu')(sum1)\n",
    "conv4 = Conv2D(filters=60, kernel_size=(3,3), dilation_rate=3, padding='same',activation='relu')(conv3)\n",
    "conv5 = Conv2D(filters=60, kernel_size=(3,3), dilation_rate=2, padding='same',activation='relu')(conv4)\n",
    "sum2 = add([conv3, conv5])\n",
    "\n",
    "conv6 = Conv2D(filters=60, kernel_size=(3,3), padding='same',activation='relu')(sum2)\n",
    "conv7 = Conv2D(filters=1, kernel_size=(3,3), padding='same')(conv6)\n",
    "\n",
    "model = Model([input1, input2], conv7)\n",
    "    "
   ]
  },
  {
   "cell_type": "markdown",
   "metadata": {},
   "source": [
    "#### Define PSNR Loss Metrics, remains loss function MSE ; Step Decay for Callbacks"
   ]
  },
  {
   "cell_type": "code",
   "execution_count": 3,
   "metadata": {},
   "outputs": [],
   "source": [
    "def PSNRLoss(y_true, y_pred):\n",
    "    return -10. * K.log(K.mean(K.square(y_pred - y_true))) / K.log(10.)"
   ]
  },
  {
   "cell_type": "code",
   "execution_count": 5,
   "metadata": {},
   "outputs": [],
   "source": [
    "def step_decay(epoch):\n",
    "    initial_lrate = 0.001\n",
    "    drop = 0.1\n",
    "    epochs_drop = 20\n",
    "    lrate = initial_lrate * math.pow(drop, math.floor((1+epoch)/epochs_drop))\n",
    "    return lrate"
   ]
  },
  {
   "cell_type": "markdown",
   "metadata": {},
   "source": [
    "Compile model"
   ]
  },
  {
   "cell_type": "code",
   "execution_count": 8,
   "metadata": {},
   "outputs": [],
   "source": [
    "adam = Adam(lr=0.0003)\n",
    "model.compile(optimizer=adam, loss='mean_squared_error', metrics=[PSNRLoss])"
   ]
  }
 ],
 "metadata": {
  "kernelspec": {
   "display_name": "Python 3",
   "language": "python",
   "name": "python3"
  },
  "language_info": {
   "codemirror_mode": {
    "name": "ipython",
    "version": 3
   },
   "file_extension": ".py",
   "mimetype": "text/x-python",
   "name": "python",
   "nbconvert_exporter": "python",
   "pygments_lexer": "ipython3",
   "version": "3.5.2"
  }
 },
 "nbformat": 4,
 "nbformat_minor": 2
}
