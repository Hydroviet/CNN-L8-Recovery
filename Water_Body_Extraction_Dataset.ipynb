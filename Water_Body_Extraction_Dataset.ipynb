{
 "cells": [
  {
   "cell_type": "code",
   "execution_count": 1,
   "metadata": {},
   "outputs": [],
   "source": [
    "import rasterio \n",
    "import numpy as np\n",
    "import h5py\n",
    "import os\n",
    "import cv2\n",
    "\n",
    "from matplotlib import pyplot as plt\n",
    "from sklearn.preprocessing import MinMaxScaler\n",
    "\n",
    "plt.rcParams['figure.figsize'] = 7, 7"
   ]
  },
  {
   "cell_type": "code",
   "execution_count": 2,
   "metadata": {},
   "outputs": [],
   "source": [
    "def extractWaterBody(img, imgType):\n",
    "    if (imgType in ['B5', 'B6', 'B7']):\n",
    "        scaler = MinMaxScaler(feature_range=(-1,1))\n",
    "        data = scaler.fit_transform(img)\n",
    "        result = np.where(data < -0.9, 1, 0)\n",
    "    else:\n",
    "        if (imgType == 'NDWI'):\n",
    "            result = np.where(img > 0, 1, 0)\n",
    "        if (imgType == 'NDWI2'):\n",
    "            result = np.where(img > 0.15, 1, 0)\n",
    "        if (imgType == 'NDWI3'):\n",
    "            result = np.where(img > 0.2, 1, 0)\n",
    "    return result"
   ]
  },
  {
   "cell_type": "code",
   "execution_count": 3,
   "metadata": {},
   "outputs": [],
   "source": [
    "def readAndReizeImg(fn, x1, x2, y1, y2, newSizeX=400, newSizeY=400):\n",
    "    img = rasterio.open(fn, 'r').read(1)\n",
    "    img = img[x1:x2,y1:y2]\n",
    "    return cv2.resize(img, (newSizeX, newSizeY))"
   ]
  },
  {
   "cell_type": "code",
   "execution_count": 4,
   "metadata": {},
   "outputs": [],
   "source": [
    "def addCloudMaskOverData(data, mask):\n",
    "    maskedData = np.copy(data)\n",
    "    maskedData[mask == 0] = 0\n",
    "    return maskedData"
   ]
  },
  {
   "cell_type": "code",
   "execution_count": 5,
   "metadata": {},
   "outputs": [],
   "source": [
    "def readTifImage(file_name):\n",
    "    data = rasterio.open(file_name, 'r').read(1)\n",
    "    if (data.shape != [400,400]):\n",
    "        data = cv2.resize(data, (400,400))\n",
    "    return data"
   ]
  },
  {
   "cell_type": "code",
   "execution_count": 6,
   "metadata": {},
   "outputs": [],
   "source": [
    "def get2DMaskArray(mask):\n",
    "    mask2D = mask // 255\n",
    "    return mask2D"
   ]
  },
  {
   "cell_type": "code",
   "execution_count": 7,
   "metadata": {},
   "outputs": [],
   "source": [
    "for root, folders, files in os.walk('dataset/CloudFree/'):\n",
    "    break\n",
    "listInputTrain = folders[:-10]\n",
    "listInputTest = folders[-10:]\n",
    "\n",
    "for __, _, files in os.walk('dataset/CloudMaskExamples/'):\n",
    "    break\n",
    "listMask = files"
   ]
  },
  {
   "cell_type": "code",
   "execution_count": 8,
   "metadata": {},
   "outputs": [],
   "source": [
    "bandDef = ['B5', 'B6', 'B7', 'NDWI', 'NDWI2', 'NDWI3']"
   ]
  },
  {
   "cell_type": "code",
   "execution_count": 9,
   "metadata": {},
   "outputs": [],
   "source": [
    "# Shuffle Referenced Images\n",
    "nTrain = len(listInputTrain)\n",
    "nMask = len(listMask)\n",
    "\n",
    "refImg = np.arange(nTrain)\n",
    "np.random.shuffle(refImg)\n",
    "\n",
    "nBands = 6\n",
    "imgSize = 400\n",
    "\n",
    "lLabel = np.zeros((nMask*nTrain*nBands,imgSize,imgSize,1),dtype=np.uint8)\n",
    "lMasked = np.zeros((nMask*nTrain*nBands,imgSize,imgSize,1),dtype=np.uint8)\n",
    "lRef = np.zeros((nMask*nTrain*nBands,imgSize,imgSize,1),dtype=np.uint8)\n",
    "lMask = np.zeros((nMask*nTrain*nBands,imgSize,imgSize,1),dtype=np.uint8)"
   ]
  },
  {
   "cell_type": "code",
   "execution_count": 10,
   "metadata": {
    "scrolled": true
   },
   "outputs": [
    {
     "name": "stderr",
     "output_type": "stream",
     "text": [
      "/home/anhldt/.local/lib/python3.5/site-packages/rasterio/__init__.py:217: NotGeoreferencedWarning: Dataset has no geotransform set. The identity matrix may be returned.\n",
      "  s = DatasetReader(path, driver=driver, **kwargs)\n",
      "/home/anhldt/.local/lib/python3.5/site-packages/sklearn/utils/validation.py:475: DataConversionWarning: Data with input dtype uint16 was converted to float64 by MinMaxScaler.\n",
      "  warnings.warn(msg, DataConversionWarning)\n"
     ]
    }
   ],
   "source": [
    "p = -1\n",
    "\n",
    "for j in range(nMask):\n",
    "    _mask = get2DMaskArray(readTifImage(os.path.join('dataset', 'CloudMaskExamples', listMask[j])))\n",
    "    \n",
    "    dLabel = np.zeros((imgSize,imgSize,nBands),dtype='uint8')\n",
    "    dMasked = np.zeros((imgSize,imgSize,nBands),dtype='uint8')\n",
    "    dRef = np.zeros((imgSize,imgSize,nBands),dtype='uint8')\n",
    "    dMask = np.zeros((imgSize,imgSize,nBands),dtype='uint8')\n",
    "    \n",
    "    for i in range(nTrain):\n",
    "        # Read for each bands\n",
    "        for b in range(nBands):\n",
    "            # Read cloud-free data\n",
    "            label = readAndReizeImg(os.path.join(root, listInputTrain[i], listInputTrain[i] + '_' + bandDef[b] + '.TIF'), 0, 1011, 186, 1197)\n",
    "            label = extractWaterBody(label, bandDef[b])\n",
    "            # Add mask over label\n",
    "            masked = addCloudMaskOverData(data=label,mask=_mask)           \n",
    "            # Read reference\n",
    "            ref = readAndReizeImg(os.path.join(root, listInputTrain[refImg[i]], listInputTrain[refImg[i]] + '_' + bandDef[b] + '.TIF'), 0, 1011, 186, 1197)\n",
    "            ref = extractWaterBody(ref, bandDef[b])\n",
    "            # Hadamard Multiplication for keeping original data\n",
    "            __mask = np.copy(_mask)\n",
    "            __mask[:] = abs((765 - __mask[:]) // 765)\n",
    "            __mask = masked + np.multiply(ref, __mask)\n",
    "                                 \n",
    "            dLabel[:,:,b] = label.astype('uint8')\n",
    "            dMasked[:,:,b] = masked.astype('uint8')\n",
    "            dRef[:,:,b] = ref.astype('uint8')\n",
    "            dMask[:,:,b] = __mask.astype('uint8')\n",
    "        \n",
    "        for b in range(nBands):\n",
    "            p += 1\n",
    "            lLabel[p,:,:,0] = dLabel[:,:,b]\n",
    "            lMasked[p,:,:,0] = dMasked[:,:,b]\n",
    "            lRef[p,:,:,0] = dRef[:,:,b]\n",
    "            lMask[p,:,:,0] = dMask[:,:,b]"
   ]
  },
  {
   "cell_type": "code",
   "execution_count": 11,
   "metadata": {
    "scrolled": false
   },
   "outputs": [
    {
     "data": {
      "text/plain": [
       "<matplotlib.image.AxesImage at 0x7faf30372a20>"
      ]
     },
     "execution_count": 11,
     "metadata": {},
     "output_type": "execute_result"
    },
    {
     "data": {
      "image/png": "[encoded data removed]",
      "text/plain": [
       "<Figure size 432x288 with 1 Axes>"
      ]
     },
     "metadata": {},
     "output_type": "display_data"
    }
   ],
   "source": [
    "plt.imshow(dLabel[:,:,0])"
   ]
  },
  {
   "cell_type": "code",
   "execution_count": 22,
   "metadata": {
    "scrolled": true
   },
   "outputs": [
    {
     "data": {
      "text/plain": [
       "<matplotlib.image.AxesImage at 0x7faf83a16b70>"
      ]
     },
     "execution_count": 22,
     "metadata": {},
     "output_type": "execute_result"
    },
    {
     "data": {
      "image/png": "[encoded data removed]",
      "text/plain": [
       "<Figure size 432x288 with 1 Axes>"
      ]
     },
     "metadata": {},
     "output_type": "display_data"
    }
   ],
   "source": [
    "id = -21\n",
    "plt.imshow(lLabel[id, :, :, 0])"
   ]
  },
  {
   "cell_type": "code",
   "execution_count": 23,
   "metadata": {},
   "outputs": [
    {
     "data": {
      "text/plain": [
       "<matplotlib.image.AxesImage at 0x7faf839cdc50>"
      ]
     },
     "execution_count": 23,
     "metadata": {},
     "output_type": "execute_result"
    },
    {
     "data": {
      "image/png": "[encoded data removed]",
      "text/plain": [
       "<Figure size 432x288 with 1 Axes>"
      ]
     },
     "metadata": {},
     "output_type": "display_data"
    }
   ],
   "source": [
    "plt.imshow(lRef[id, :, :, 0])"
   ]
  },
  {
   "cell_type": "code",
   "execution_count": 24,
   "metadata": {},
   "outputs": [
    {
     "data": {
      "text/plain": [
       "<matplotlib.image.AxesImage at 0x7faf83983e48>"
      ]
     },
     "execution_count": 24,
     "metadata": {},
     "output_type": "execute_result"
    },
    {
     "data": {
      "image/png": "[encoded data removed]",
      "text/plain": [
       "<Figure size 432x288 with 1 Axes>"
      ]
     },
     "metadata": {},
     "output_type": "display_data"
    }
   ],
   "source": [
    "plt.imshow(lMasked[id, :, :, 0])"
   ]
  },
  {
   "cell_type": "code",
   "execution_count": 25,
   "metadata": {},
   "outputs": [
    {
     "data": {
      "text/plain": [
       "<matplotlib.image.AxesImage at 0x7faf8393e208>"
      ]
     },
     "execution_count": 25,
     "metadata": {},
     "output_type": "execute_result"
    },
    {
     "data": {
      "image/png": "[encoded data removed]",
      "text/plain": [
       "<Figure size 432x288 with 1 Axes>"
      ]
     },
     "metadata": {},
     "output_type": "display_data"
    }
   ],
   "source": [
    "plt.imshow(lMask[id, :, :, 0])"
   ]
  },
  {
   "cell_type": "code",
   "execution_count": 16,
   "metadata": {},
   "outputs": [],
   "source": [
    "f = h5py.File('_train0808.hdf5', 'w')\n",
    "f.create_dataset('label',data=lLabel)\n",
    "f.create_dataset('ref',data=lRef)\n",
    "f.create_dataset('masked',data=lMasked)\n",
    "f.create_dataset('mask',data=lMask)\n",
    "f.close()"
   ]
  },
  {
   "cell_type": "code",
   "execution_count": 17,
   "metadata": {},
   "outputs": [],
   "source": [
    "# Shuffle Referenced Images\n",
    "nTest = len(listInputTest)\n",
    "nMask = len(listMask)\n",
    "\n",
    "refImg = np.arange(nTest)\n",
    "np.random.shuffle(refImg)\n",
    "\n",
    "nBands = 6\n",
    "imgSize = 400\n",
    "\n",
    "lLabel = np.zeros((nMask*nTest*nBands,imgSize,imgSize,1),dtype=np.uint8)\n",
    "lMask = np.zeros((nMask*nTest*nBands,imgSize,imgSize, 1),dtype=np.uint8)\n",
    "lMasked = np.zeros((nMask*nTest*nBands,imgSize,imgSize,1),dtype=np.uint8)\n",
    "lRef = np.zeros((nMask*nTest*nBands,imgSize,imgSize,1),dtype=np.uint8)"
   ]
  },
  {
   "cell_type": "code",
   "execution_count": 18,
   "metadata": {},
   "outputs": [
    {
     "name": "stderr",
     "output_type": "stream",
     "text": [
      "/home/anhldt/.local/lib/python3.5/site-packages/rasterio/__init__.py:217: NotGeoreferencedWarning: Dataset has no geotransform set. The identity matrix may be returned.\n",
      "  s = DatasetReader(path, driver=driver, **kwargs)\n",
      "/home/anhldt/.local/lib/python3.5/site-packages/sklearn/utils/validation.py:475: DataConversionWarning: Data with input dtype uint16 was converted to float64 by MinMaxScaler.\n",
      "  warnings.warn(msg, DataConversionWarning)\n"
     ]
    }
   ],
   "source": [
    "p = -1\n",
    "\n",
    "for j in range(nMask):\n",
    "    _mask = get2DMaskArray(readTifImage(os.path.join('dataset', 'CloudMaskExamples', listMask[j])))\n",
    "    \n",
    "    dLabel = np.zeros((imgSize,imgSize,nBands),dtype='uint8')\n",
    "    dMasked = np.zeros((imgSize,imgSize,nBands),dtype='uint8')\n",
    "    dRef = np.zeros((imgSize,imgSize,nBands),dtype='uint8')\n",
    "    dMask = np.zeros((imgSize,imgSize,nBands),dtype='uint8')\n",
    "    \n",
    "    for i in range(nTest):\n",
    "        # Read for each bands\n",
    "        for b in range(nBands):\n",
    "            # Read cloud-free data\n",
    "            label = readAndReizeImg(os.path.join(root, listInputTest[i], listInputTest[i] + '_' + bandDef[b] + '.TIF'), 0, 1011, 186, 1197)\n",
    "            label = extractWaterBody(label, bandDef[b])\n",
    "            # Add mask over label\n",
    "            masked = addCloudMaskOverData(data=label,mask=_mask)           \n",
    "            # Read reference\n",
    "            ref = readAndReizeImg(os.path.join(root, listInputTest[refImg[i]], listInputTest[refImg[i]] + '_' + bandDef[b] + '.TIF'), 0, 1011, 186, 1197)\n",
    "            ref = extractWaterBody(ref, bandDef[b])\n",
    "            # Hadamard Multiplication for keeping original data\n",
    "            __mask = np.copy(_mask)\n",
    "            __mask[:] = abs((765 - __mask[:]) // 765)\n",
    "            __mask = masked + np.multiply(ref, __mask)\n",
    "                                 \n",
    "            dLabel[:,:,b] = label.astype('uint8')\n",
    "            dMasked[:,:,b] = masked.astype('uint8')\n",
    "            dRef[:,:,b] = ref.astype('uint8')\n",
    "            dMask[:,:,b] = __mask.astype('uint8')\n",
    "\n",
    "        for b in range(nBands):\n",
    "            p += 1\n",
    "            lLabel[p,:,:,0] = dLabel[:,:,b]\n",
    "            lMasked[p,:,:,0] = dMasked[:,:,b]\n",
    "            lRef[p,:,:,0] = dRef[:,:,b]\n",
    "            lMask[p,:,:,0] = dMask[:,:,b]"
   ]
  },
  {
   "cell_type": "code",
   "execution_count": 19,
   "metadata": {},
   "outputs": [],
   "source": [
    "f = h5py.File('_test0808.hdf5', 'w')\n",
    "f.create_dataset('label',data=lLabel)\n",
    "f.create_dataset('ref',data=lRef)\n",
    "f.create_dataset('masked',data=lMasked)\n",
    "f.create_dataset('mask',data=lMask)\n",
    "f.close()"
   ]
  },
  {
   "cell_type": "code",
   "execution_count": 26,
   "metadata": {},
   "outputs": [
    {
     "data": {
      "text/plain": [
       "<matplotlib.image.AxesImage at 0x7faf838f3358>"
      ]
     },
     "execution_count": 26,
     "metadata": {},
     "output_type": "execute_result"
    },
    {
     "data": {
      "image/png": "[encoded data removed]",
      "text/plain": [
       "<Figure size 432x288 with 1 Axes>"
      ]
     },
     "metadata": {},
     "output_type": "display_data"
    }
   ],
   "source": [
    "id = -202\n",
    "plt.imshow(lLabel[id, :, :, 0])"
   ]
  }
 ],
 "metadata": {
  "kernelspec": {
   "display_name": "Python 3",
   "language": "python",
   "name": "python3"
  },
  "language_info": {
   "codemirror_mode": {
    "name": "ipython",
    "version": 3
   },
   "file_extension": ".py",
   "mimetype": "text/x-python",
   "name": "python",
   "nbconvert_exporter": "python",
   "pygments_lexer": "ipython3",
   "version": "3.5.2"
  }
 },
 "nbformat": 4,
 "nbformat_minor": 2
}
