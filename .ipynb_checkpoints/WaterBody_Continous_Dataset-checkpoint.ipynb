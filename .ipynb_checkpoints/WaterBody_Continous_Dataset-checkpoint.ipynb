{
 "cells": [
  {
   "cell_type": "code",
   "execution_count": 2,
   "metadata": {},
   "outputs": [],
   "source": [
    "import rasterio\n",
    "import numpy as np\n",
    "import h5py\n",
    "import os\n",
    "from matplotlib import pyplot as plt\n",
    "import cv2"
   ]
  },
  {
   "cell_type": "markdown",
   "metadata": {},
   "source": [
    "# Helper Functions"
   ]
  },
  {
   "cell_type": "code",
   "execution_count": 3,
   "metadata": {},
   "outputs": [],
   "source": [
    "def im2double(im):\n",
    "    min_val = np.min(im.ravel())\n",
    "    max_val = np.max(im.ravel())\n",
    "    out = (im.astype('float') - min_val) / (max_val - min_val)\n",
    "    return out"
   ]
  },
  {
   "cell_type": "code",
   "execution_count": 4,
   "metadata": {},
   "outputs": [],
   "source": [
    "def readTifImg(fn):\n",
    "    data = rasterio.open(fn, 'r').read(1)\n",
    "    return data"
   ]
  },
  {
   "cell_type": "code",
   "execution_count": 5,
   "metadata": {},
   "outputs": [],
   "source": [
    "def resize400Img(img):\n",
    "    # cut. Hard-code on l8\n",
    "    data = img[0:1011, 186:1197]\n",
    "    return cv2.resize(data, (400, 400))"
   ]
  },
  {
   "cell_type": "code",
   "execution_count": 6,
   "metadata": {},
   "outputs": [],
   "source": [
    "def get2DMaskArray(mask):\n",
    "    if (mask.max() == 255):\n",
    "        mask2D = mask // 255\n",
    "    else:\n",
    "        mask2D = 1 - mask\n",
    "    if (mask2D.shape != [400,400]):\n",
    "        mask2D = cv2.resize(mask2D, (400,400))\n",
    "    return mask2D"
   ]
  },
  {
   "cell_type": "code",
   "execution_count": 7,
   "metadata": {},
   "outputs": [],
   "source": [
    "def addCloudMaskOverData(data, mask):\n",
    "    maskedData = np.copy(data)\n",
    "    maskedData[mask == 0] = 0\n",
    "    return maskedData"
   ]
  },
  {
   "cell_type": "code",
   "execution_count": 8,
   "metadata": {},
   "outputs": [],
   "source": [
    "def getContinousL8Data(dbPath):\n",
    "    for _, listInputs, __ in os.walk(dbPath):\n",
    "        break\n",
    "    sorted(listInputs)\n",
    "    for i in range(len(listInputs)):\n",
    "        listInputs[i] =  os.path.join(dbPath, listInputs[i]) + '/' + listInputs[i]\n",
    "    \n",
    "    cloudPath = '../Landsat8/CloudMaskExamples/'\n",
    "    for _, __, listMasks in os.walk(cloudPath):\n",
    "        break\n",
    "    nMask = len(listMasks)\n",
    "    for i in range(nMask):\n",
    "        listMasks[i] = os.path.join(cloudPath, listMasks[i])\n",
    "    \n",
    "    nBands = len(bandDef)\n",
    "    nInput = len(listInputs) - 1\n",
    "    lInput1 = np.zeros((nMask*nBands,imgSize,imgSize,1),dtype=np.float32)\n",
    "    lInput2 = np.zeros((nMask*nBands,imgSize,imgSize,1),dtype=np.float32)\n",
    "    lInput3 = np.zeros((nMask*nBands,imgSize,imgSize,1),dtype=np.float32)\n",
    "    lInput4 = np.zeros((nMask*nBands,imgSize,imgSize,1),dtype=np.float32)\n",
    "    lInput5 = np.zeros((nMask*nBands,imgSize,imgSize,1),dtype=np.float32)    \n",
    "    lOutput = np.zeros((nMask*nBands,imgSize,imgSize,1),dtype=np.float32)\n",
    "    lMasked = np.zeros((nMask*nBands,imgSize,imgSize,1),dtype=np.float32)\n",
    "    \n",
    "    p = -1\n",
    "    for i in range(nMask):\n",
    "        for b in range(nBands):\n",
    "            p += 1\n",
    "            lInput1[p, :, :, 0] = resize400Img(readTifImg(listInputs[0] + '_' + bandDef[b] + '.TIF'))\n",
    "            lInput2[p, :, :, 0] = resize400Img(readTifImg(listInputs[1] + '_' + bandDef[b] + '.TIF'))\n",
    "            lInput3[p, :, :, 0] = resize400Img(readTifImg(listInputs[2] + '_' + bandDef[b] + '.TIF'))\n",
    "            lInput4[p, :, :, 0] = resize400Img(readTifImg(listInputs[3] + '_' + bandDef[b] + '.TIF'))\n",
    "            lInput5[p, :, :, 0] = resize400Img(readTifImg(listInputs[4] + '_' + bandDef[b] + '.TIF'))\n",
    "            lOutput[p, :, :, 0] = resize400Img(readTifImg(listInputs[5] + '_' + bandDef[b] + '.TIF'))\n",
    "            \n",
    "            mask = get2DMaskArray(readTifImg(listMasks[i]))\n",
    "            lMasked[p, :, :, 0] = addCloudMaskOverData(lOutput[p, :, :, 0], mask)\n",
    "    \n",
    "    ratio = max(lInput1.max(), lInput2.max(), lInput3.max(), lInput4.max(), lInput5.max(), lMasked.max(), lOutput.max())\n",
    "    \n",
    "    lInput1 /= ratio\n",
    "    lInput2 /= ratio\n",
    "    lInput3 /= ratio\n",
    "    lInput4 /= ratio\n",
    "    lInput5 /= ratio\n",
    "    lMasked /= ratio\n",
    "    lOutput /= ratio\n",
    "    \n",
    "    return lInput1, lInput2, lInput3, lInput4, lInput5, lMasked, lOutput "
   ]
  },
  {
   "cell_type": "markdown",
   "metadata": {},
   "source": [
    "# Dataset generator"
   ]
  },
  {
   "cell_type": "code",
   "execution_count": 9,
   "metadata": {},
   "outputs": [],
   "source": [
    "dbFolderName = '../Landsat8/ContinousWithSentinel1Ref/'\n",
    "\n",
    "bandDef = ['B7', 'B6', 'B5', 'B4', 'B3', 'B2']\n",
    "imgSize = 400"
   ]
  },
  {
   "cell_type": "code",
   "execution_count": 10,
   "metadata": {},
   "outputs": [
    {
     "ename": "error",
     "evalue": "OpenCV(3.4.2) /io/opencv/modules/imgproc/src/histogram.cpp:3334: error: (-215:Assertion failed) _src.type() == (((0) & ((1 << 3) - 1)) + (((1)-1) << 3)) in function 'equalizeHist'\n",
     "output_type": "error",
     "traceback": [
      "\u001b[0;31m---------------------------------------------------------------------------\u001b[0m",
      "\u001b[0;31merror\u001b[0m                                     Traceback (most recent call last)",
      "\u001b[0;32m<ipython-input-10-20e7f26f2228>\u001b[0m in \u001b[0;36m<module>\u001b[0;34m()\u001b[0m\n\u001b[1;32m     21\u001b[0m \u001b[0;34m\u001b[0m\u001b[0m\n\u001b[1;32m     22\u001b[0m \u001b[0;32mfor\u001b[0m \u001b[0mfolder\u001b[0m \u001b[0;32min\u001b[0m \u001b[0mlistDir\u001b[0m\u001b[0;34m:\u001b[0m\u001b[0;34m\u001b[0m\u001b[0m\n\u001b[0;32m---> 23\u001b[0;31m     \u001b[0min1\u001b[0m\u001b[0;34m,\u001b[0m \u001b[0min2\u001b[0m\u001b[0;34m,\u001b[0m \u001b[0min3\u001b[0m\u001b[0;34m,\u001b[0m \u001b[0min4\u001b[0m\u001b[0;34m,\u001b[0m \u001b[0min5\u001b[0m\u001b[0;34m,\u001b[0m \u001b[0mmasked\u001b[0m\u001b[0;34m,\u001b[0m \u001b[0mout\u001b[0m \u001b[0;34m=\u001b[0m \u001b[0mgetContinousL8Data\u001b[0m\u001b[0;34m(\u001b[0m\u001b[0mos\u001b[0m\u001b[0;34m.\u001b[0m\u001b[0mpath\u001b[0m\u001b[0;34m.\u001b[0m\u001b[0mjoin\u001b[0m\u001b[0;34m(\u001b[0m\u001b[0mdbFolderName\u001b[0m\u001b[0;34m,\u001b[0m \u001b[0mfolder\u001b[0m\u001b[0;34m)\u001b[0m\u001b[0;34m)\u001b[0m\u001b[0;34m\u001b[0m\u001b[0m\n\u001b[0m\u001b[1;32m     24\u001b[0m     \u001b[0;32mfor\u001b[0m \u001b[0mi\u001b[0m \u001b[0;32min\u001b[0m \u001b[0mrange\u001b[0m\u001b[0;34m(\u001b[0m\u001b[0min1\u001b[0m\u001b[0;34m.\u001b[0m\u001b[0mshape\u001b[0m\u001b[0;34m[\u001b[0m\u001b[0;36m0\u001b[0m\u001b[0;34m]\u001b[0m\u001b[0;34m)\u001b[0m\u001b[0;34m:\u001b[0m\u001b[0;34m\u001b[0m\u001b[0m\n\u001b[1;32m     25\u001b[0m         \u001b[0mp\u001b[0m \u001b[0;34m+=\u001b[0m \u001b[0;36m1\u001b[0m\u001b[0;34m\u001b[0m\u001b[0m\n",
      "\u001b[0;32m<ipython-input-8-c29ff4697d5f>\u001b[0m in \u001b[0;36mgetContinousL8Data\u001b[0;34m(dbPath)\u001b[0m\n\u001b[1;32m     27\u001b[0m         \u001b[0;32mfor\u001b[0m \u001b[0mb\u001b[0m \u001b[0;32min\u001b[0m \u001b[0mrange\u001b[0m\u001b[0;34m(\u001b[0m\u001b[0mnBands\u001b[0m\u001b[0;34m)\u001b[0m\u001b[0;34m:\u001b[0m\u001b[0;34m\u001b[0m\u001b[0m\n\u001b[1;32m     28\u001b[0m             \u001b[0mp\u001b[0m \u001b[0;34m+=\u001b[0m \u001b[0;36m1\u001b[0m\u001b[0;34m\u001b[0m\u001b[0m\n\u001b[0;32m---> 29\u001b[0;31m             \u001b[0mlInput1\u001b[0m\u001b[0;34m[\u001b[0m\u001b[0mp\u001b[0m\u001b[0;34m,\u001b[0m \u001b[0;34m:\u001b[0m\u001b[0;34m,\u001b[0m \u001b[0;34m:\u001b[0m\u001b[0;34m,\u001b[0m \u001b[0;36m0\u001b[0m\u001b[0;34m]\u001b[0m \u001b[0;34m=\u001b[0m \u001b[0mcv2\u001b[0m\u001b[0;34m.\u001b[0m\u001b[0mequalizeHist\u001b[0m\u001b[0;34m(\u001b[0m\u001b[0mresize400Img\u001b[0m\u001b[0;34m(\u001b[0m\u001b[0mreadTifImg\u001b[0m\u001b[0;34m(\u001b[0m\u001b[0mlistInputs\u001b[0m\u001b[0;34m[\u001b[0m\u001b[0;36m0\u001b[0m\u001b[0;34m]\u001b[0m \u001b[0;34m+\u001b[0m \u001b[0;34m'_'\u001b[0m \u001b[0;34m+\u001b[0m \u001b[0mbandDef\u001b[0m\u001b[0;34m[\u001b[0m\u001b[0mb\u001b[0m\u001b[0;34m]\u001b[0m \u001b[0;34m+\u001b[0m \u001b[0;34m'.TIF'\u001b[0m\u001b[0;34m)\u001b[0m\u001b[0;34m)\u001b[0m\u001b[0;34m)\u001b[0m\u001b[0;34m\u001b[0m\u001b[0m\n\u001b[0m\u001b[1;32m     30\u001b[0m             \u001b[0mlInput2\u001b[0m\u001b[0;34m[\u001b[0m\u001b[0mp\u001b[0m\u001b[0;34m,\u001b[0m \u001b[0;34m:\u001b[0m\u001b[0;34m,\u001b[0m \u001b[0;34m:\u001b[0m\u001b[0;34m,\u001b[0m \u001b[0;36m0\u001b[0m\u001b[0;34m]\u001b[0m \u001b[0;34m=\u001b[0m \u001b[0mcv2\u001b[0m\u001b[0;34m.\u001b[0m\u001b[0mequalizeHist\u001b[0m\u001b[0;34m(\u001b[0m\u001b[0mresize400Img\u001b[0m\u001b[0;34m(\u001b[0m\u001b[0mreadTifImg\u001b[0m\u001b[0;34m(\u001b[0m\u001b[0mlistInputs\u001b[0m\u001b[0;34m[\u001b[0m\u001b[0;36m1\u001b[0m\u001b[0;34m]\u001b[0m \u001b[0;34m+\u001b[0m \u001b[0;34m'_'\u001b[0m \u001b[0;34m+\u001b[0m \u001b[0mbandDef\u001b[0m\u001b[0;34m[\u001b[0m\u001b[0mb\u001b[0m\u001b[0;34m]\u001b[0m \u001b[0;34m+\u001b[0m \u001b[0;34m'.TIF'\u001b[0m\u001b[0;34m)\u001b[0m\u001b[0;34m)\u001b[0m\u001b[0;34m)\u001b[0m\u001b[0;34m\u001b[0m\u001b[0m\n\u001b[1;32m     31\u001b[0m             \u001b[0mlInput3\u001b[0m\u001b[0;34m[\u001b[0m\u001b[0mp\u001b[0m\u001b[0;34m,\u001b[0m \u001b[0;34m:\u001b[0m\u001b[0;34m,\u001b[0m \u001b[0;34m:\u001b[0m\u001b[0;34m,\u001b[0m \u001b[0;36m0\u001b[0m\u001b[0;34m]\u001b[0m \u001b[0;34m=\u001b[0m \u001b[0mcv2\u001b[0m\u001b[0;34m.\u001b[0m\u001b[0mequalizeHist\u001b[0m\u001b[0;34m(\u001b[0m\u001b[0mresize400Img\u001b[0m\u001b[0;34m(\u001b[0m\u001b[0mreadTifImg\u001b[0m\u001b[0;34m(\u001b[0m\u001b[0mlistInputs\u001b[0m\u001b[0;34m[\u001b[0m\u001b[0;36m2\u001b[0m\u001b[0;34m]\u001b[0m \u001b[0;34m+\u001b[0m \u001b[0;34m'_'\u001b[0m \u001b[0;34m+\u001b[0m \u001b[0mbandDef\u001b[0m\u001b[0;34m[\u001b[0m\u001b[0mb\u001b[0m\u001b[0;34m]\u001b[0m \u001b[0;34m+\u001b[0m \u001b[0;34m'.TIF'\u001b[0m\u001b[0;34m)\u001b[0m\u001b[0;34m)\u001b[0m\u001b[0;34m)\u001b[0m\u001b[0;34m\u001b[0m\u001b[0m\n",
      "\u001b[0;31merror\u001b[0m: OpenCV(3.4.2) /io/opencv/modules/imgproc/src/histogram.cpp:3334: error: (-215:Assertion failed) _src.type() == (((0) & ((1 << 3) - 1)) + (((1)-1) << 3)) in function 'equalizeHist'\n"
     ]
    }
   ],
   "source": [
    "cloudPath = '../Landsat8/CloudMaskExamples/'\n",
    "for _, __, listMasks in os.walk(cloudPath):\n",
    "    break\n",
    "nMask = len(listMasks)\n",
    "nBands = len(bandDef)\n",
    "    \n",
    "for _, listDir, __ in os.walk(dbFolderName):\n",
    "    break\n",
    "    \n",
    "nData = len(listDir)\n",
    "\n",
    "lInput1 = np.zeros((nData*nMask*nBands,imgSize,imgSize,1),dtype=np.float32)\n",
    "lInput2 = np.zeros((nData*nMask*nBands,imgSize,imgSize,1),dtype=np.float32)\n",
    "lInput3 = np.zeros((nData*nMask*nBands,imgSize,imgSize,1),dtype=np.float32)\n",
    "lInput4 = np.zeros((nData*nMask*nBands,imgSize,imgSize,1),dtype=np.float32)\n",
    "lInput5 = np.zeros((nData*nMask*nBands,imgSize,imgSize,1),dtype=np.float32)    \n",
    "lOutput = np.zeros((nData*nMask*nBands,imgSize,imgSize,1),dtype=np.float32)\n",
    "lMasked = np.zeros((nData*nMask*nBands,imgSize,imgSize,1),dtype=np.float32)\n",
    "p = -1\n",
    "\n",
    "\n",
    "for folder in listDir:\n",
    "    in1, in2, in3, in4, in5, masked, out = getContinousL8Data(os.path.join(dbFolderName, folder))\n",
    "    for i in range(in1.shape[0]):\n",
    "        p += 1\n",
    "        lInput1[p, :, :, 0] = in1[i, :, :, 0]\n",
    "        lInput2[p, :, :, 0] = in2[i, :, :, 0]\n",
    "        lInput3[p, :, :, 0] = in3[i, :, :, 0]\n",
    "        lInput4[p, :, :, 0] = in4[i, :, :, 0]\n",
    "        lInput5[p, :, :, 0] = in5[i, :, :, 0]\n",
    "        lMasked[p, :, :, 0] = masked[i, :, :, 0]\n",
    "        lOutput[p, :, :, 0] = out[i, :, :, 0]"
   ]
  },
  {
   "cell_type": "code",
   "execution_count": null,
   "metadata": {},
   "outputs": [],
   "source": [
    "x = 0\n",
    "rgb = np.dstack((lMasked[3*x,:,:,0],lMasked[3*x+1,:,:,0],lMasked[3*x+2,:,:,0]))\n",
    "plt.imshow(im2double(rgb))"
   ]
  },
  {
   "cell_type": "code",
   "execution_count": 36,
   "metadata": {},
   "outputs": [],
   "source": [
    "import h5py\n",
    "f = h5py.File('test765.hdf5', 'w')\n",
    "f.create_dataset('in1',data=lInput1)\n",
    "f.create_dataset('in2',data=lInput2)\n",
    "f.create_dataset('in3',data=lInput3)\n",
    "f.create_dataset('in4',data=lInput4)\n",
    "f.create_dataset('in5',data=lInput5)\n",
    "f.create_dataset('masked',data=lMasked)\n",
    "f.create_dataset('out',data=lOutput)\n",
    "f.close()"
   ]
  }
 ],
 "metadata": {
  "kernelspec": {
   "display_name": "Python 3",
   "language": "python",
   "name": "python3"
  },
  "language_info": {
   "codemirror_mode": {
    "name": "ipython",
    "version": 3
   },
   "file_extension": ".py",
   "mimetype": "text/x-python",
   "name": "python",
   "nbconvert_exporter": "python",
   "pygments_lexer": "ipython3",
   "version": "3.5.2"
  }
 },
 "nbformat": 4,
 "nbformat_minor": 2
}
